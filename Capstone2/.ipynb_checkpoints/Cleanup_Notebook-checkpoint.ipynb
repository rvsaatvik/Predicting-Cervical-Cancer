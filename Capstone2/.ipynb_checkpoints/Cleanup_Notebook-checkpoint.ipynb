{
 "cells": [
  {
   "cell_type": "markdown",
   "metadata": {},
   "source": [
    "# Predicting Cervical Cancer\n",
    "Capstone Project #2 for Springboard Data Science\n",
    "\n",
    "Saatvik Ramisetty\n",
    "\n",
    "## Project\n",
    "\n",
    "About 11,000 new cases of invasive cervical cancer are diagnosed each year in the U.S. However, the number of new cervical cancer cases has been declining steadily over the past decades. Although it is the most preventable type of cancer, each year cervical cancer kills about *4,000* women in the U.S. and about *300,000* women worldwide. In the United States, cervical cancer mortality rates plunged by 74% from 1955 - 1992 thanks to increased screening and early detection with the Pap test.\n",
    "\n",
    "\n",
    "This project can help improve cancer risk detection and recognizing the symptoms that cause cervical cancer in women. Machine Learning plays an important in improving healthcare and understanding cancer and it’s causes.\n",
    "\n",
    "## Data\n",
    "\n",
    "Dataset & Research paper available at [UCI Machine Learning Repository](https://archive.ics.uci.edu/ml/datasets/Cervical+cancer+%28Risk+Factors%29) and [Paper](https://pdfs.semanticscholar.org/1c02/438ba4dfa775399ba414508e9cd335b69012.pdf)\n",
    "\n",
    "The dataset comprises demographic information, habits, and historic medical records of 858 patients. Data covers a wide range of information including details like number of sexual partners, number of years the patient has been smoking for, number of pregnancies and if the patient has STDs.\n",
    "\n",
    "## Methodology\n",
    "\n",
    "We're trying to understand what are the factors that lead up to biopsy. We need a systematic approach of exploratory data analysis and modelling.\n",
    "\n",
    "### Libraries\n",
    "\n",
    "1. **Pandas**\n",
    "    - data loading, wrangling, cleaning, and manipulation\n",
    "    - feature selection and engineering\n",
    "    - descriptive statistics\n",
    "    \n",
    "2. **numpy**\n",
    "    - array data structure, the primary input for classifiers\n",
    "    - model comparison\n",
    "    - matrix manipulation\n",
    "    \n",
    "3. **scipy,sci-kit**\n",
    "    - Normalization and standardization\n",
    "    \n",
    "4. **Seaborn and Matplotlib** for visualization"
   ]
  },
  {
   "cell_type": "code",
   "execution_count": 3,
   "metadata": {},
   "outputs": [
    {
     "data": {
      "text/plain": [
       "'C:\\\\Users\\\\sramisetty\\\\Documents\\\\GitHub\\\\Predicting-Cervical-Cancer\\\\Capstone2'"
      ]
     },
     "execution_count": 3,
     "metadata": {},
     "output_type": "execute_result"
    }
   ],
   "source": [
    "# Import Libraries\n",
    "\n",
    "import pandas as pd\n",
    "import matplotlib.pyplot as plt\n",
    "import seaborn as sns\n",
    "sns.set_style('darkgrid')\n",
    "import numpy as np\n",
    "from scipy.stats import norm\n",
    "from sklearn.preprocessing import StandardScaler\n",
    "from scipy import stats\n",
    "import warnings\n",
    "warnings.filterwarnings('ignore')\n",
    "%matplotlib inline\n",
    "\n",
    "# Getting working directory\n",
    "\n",
    "import os\n",
    "cwd = os.getcwd()\n",
    "cwd"
   ]
  },
  {
   "cell_type": "markdown",
   "metadata": {},
   "source": [
    "## Data Observation & Pre-Processing\n",
    "\n",
    "Data is imported from the excel spreadsheet provided on the website. It is important to tackle the missing information which is done by converting the objects into numeric values and separating the categorical and numerical variables.\n",
    "\n",
    "Missing values have '?' which are replaced by NaN to understand the number of missing values. All the continuous variables are corrected by using \"Median\" and dummy variables are used for categorical variables."
   ]
  },
  {
   "cell_type": "code",
   "execution_count": 4,
   "metadata": {},
   "outputs": [
    {
     "name": "stdout",
     "output_type": "stream",
     "text": [
      "<class 'pandas.core.frame.DataFrame'>\n",
      "RangeIndex: 858 entries, 0 to 857\n",
      "Data columns (total 36 columns):\n",
      "Age                                   858 non-null int64\n",
      "Number of sexual partners             858 non-null object\n",
      "First sexual intercourse              858 non-null object\n",
      "Num of pregnancies                    858 non-null object\n",
      "Smokes                                858 non-null object\n",
      "Smokes (years)                        858 non-null object\n",
      "Smokes (packs/year)                   858 non-null object\n",
      "Hormonal Contraceptives               858 non-null object\n",
      "Hormonal Contraceptives (years)       858 non-null object\n",
      "IUD                                   858 non-null object\n",
      "IUD (years)                           858 non-null object\n",
      "STDs                                  858 non-null object\n",
      "STDs (number)                         858 non-null object\n",
      "STDs:condylomatosis                   858 non-null object\n",
      "STDs:cervical condylomatosis          858 non-null object\n",
      "STDs:vaginal condylomatosis           858 non-null object\n",
      "STDs:vulvo-perineal condylomatosis    858 non-null object\n",
      "STDs:syphilis                         858 non-null object\n",
      "STDs:pelvic inflammatory disease      858 non-null object\n",
      "STDs:genital herpes                   858 non-null object\n",
      "STDs:molluscum contagiosum            858 non-null object\n",
      "STDs:AIDS                             858 non-null object\n",
      "STDs:HIV                              858 non-null object\n",
      "STDs:Hepatitis B                      858 non-null object\n",
      "STDs:HPV                              858 non-null object\n",
      "STDs: Number of diagnosis             858 non-null int64\n",
      "STDs: Time since first diagnosis      858 non-null object\n",
      "STDs: Time since last diagnosis       858 non-null object\n",
      "Dx:Cancer                             858 non-null int64\n",
      "Dx:CIN                                858 non-null int64\n",
      "Dx:HPV                                858 non-null int64\n",
      "Dx                                    858 non-null int64\n",
      "Hinselmann                            858 non-null int64\n",
      "Schiller                              858 non-null int64\n",
      "Citology                              858 non-null int64\n",
      "Biopsy                                858 non-null int64\n",
      "dtypes: int64(10), object(26)\n",
      "memory usage: 241.4+ KB\n"
     ]
    }
   ],
   "source": [
    "\n",
    "\n",
    "df_full = pd.read_csv('C:/Users/sramisetty/Documents/GitHub/Predicting-Cervical-Cancer/Capstone2/kag_risk_factors_cervical_cancer.csv')\n",
    "train = pd.read_csv('C:/Users/sramisetty/Documents/GitHub/Predicting-Cervical-Cancer/Capstone2/kag_risk_factors_cervical_cancer.csv')\n",
    "\n",
    "#df_full = pd.read_csv('/Users/saatvik/My Jupyter Notebooks/Predicting-Cervical-Cancer/Capstone2/kag_risk_factors_cervical_cancer.csv')\n",
    "\n",
    "df_full.info()"
   ]
  },
  {
   "cell_type": "code",
   "execution_count": 5,
   "metadata": {},
   "outputs": [
    {
     "data": {
      "text/plain": [
       "Age                                     0\n",
       "Number of sexual partners              26\n",
       "First sexual intercourse                7\n",
       "Num of pregnancies                     56\n",
       "Smokes                                 13\n",
       "Smokes (years)                         13\n",
       "Smokes (packs/year)                    13\n",
       "Hormonal Contraceptives               108\n",
       "Hormonal Contraceptives (years)       108\n",
       "IUD                                   117\n",
       "IUD (years)                           117\n",
       "STDs                                  105\n",
       "STDs (number)                         105\n",
       "STDs:condylomatosis                   105\n",
       "STDs:cervical condylomatosis          105\n",
       "STDs:vaginal condylomatosis           105\n",
       "STDs:vulvo-perineal condylomatosis    105\n",
       "STDs:syphilis                         105\n",
       "STDs:pelvic inflammatory disease      105\n",
       "STDs:genital herpes                   105\n",
       "STDs:molluscum contagiosum            105\n",
       "STDs:AIDS                             105\n",
       "STDs:HIV                              105\n",
       "STDs:Hepatitis B                      105\n",
       "STDs:HPV                              105\n",
       "STDs: Number of diagnosis               0\n",
       "STDs: Time since first diagnosis      787\n",
       "STDs: Time since last diagnosis       787\n",
       "Dx:Cancer                               0\n",
       "Dx:CIN                                  0\n",
       "Dx:HPV                                  0\n",
       "Dx                                      0\n",
       "Hinselmann                              0\n",
       "Schiller                                0\n",
       "Citology                                0\n",
       "Biopsy                                  0\n",
       "dtype: int64"
      ]
     },
     "execution_count": 5,
     "metadata": {},
     "output_type": "execute_result"
    }
   ],
   "source": [
    "df_fullna = df_full.replace('?', np.nan)\n",
    "df_fullna.isnull().sum() #Check the number of NAs in each column"
   ]
  },
  {
   "cell_type": "code",
   "execution_count": 6,
   "metadata": {},
   "outputs": [
    {
     "data": {
      "text/plain": [
       "Age                                     0\n",
       "Number of sexual partners              14\n",
       "First sexual intercourse                6\n",
       "Num of pregnancies                     47\n",
       "Smokes                                 10\n",
       "Smokes (years)                         10\n",
       "Smokes (packs/year)                    10\n",
       "Hormonal Contraceptives                13\n",
       "Hormonal Contraceptives (years)        13\n",
       "IUD                                    16\n",
       "IUD (years)                            16\n",
       "STDs                                    0\n",
       "STDs (number)                           0\n",
       "STDs:condylomatosis                     0\n",
       "STDs:cervical condylomatosis            0\n",
       "STDs:vaginal condylomatosis             0\n",
       "STDs:vulvo-perineal condylomatosis      0\n",
       "STDs:syphilis                           0\n",
       "STDs:pelvic inflammatory disease        0\n",
       "STDs:genital herpes                     0\n",
       "STDs:molluscum contagiosum              0\n",
       "STDs:AIDS                               0\n",
       "STDs:HIV                                0\n",
       "STDs:Hepatitis B                        0\n",
       "STDs:HPV                                0\n",
       "STDs: Number of diagnosis               0\n",
       "STDs: Time since first diagnosis      682\n",
       "STDs: Time since last diagnosis       682\n",
       "Dx:Cancer                               0\n",
       "Dx:CIN                                  0\n",
       "Dx:HPV                                  0\n",
       "Dx                                      0\n",
       "Hinselmann                              0\n",
       "Schiller                                0\n",
       "Citology                                0\n",
       "Biopsy                                  0\n",
       "dtype: int64"
      ]
     },
     "execution_count": 6,
     "metadata": {},
     "output_type": "execute_result"
    }
   ],
   "source": [
    "df_fullna[df_fullna['STDs'].apply(lambda x: type(x)) != float].isnull().sum()"
   ]
  },
  {
   "cell_type": "code",
   "execution_count": 7,
   "metadata": {},
   "outputs": [
    {
     "data": {
      "text/plain": [
       "Age                                     0\n",
       "Number of sexual partners              14\n",
       "First sexual intercourse                6\n",
       "Num of pregnancies                     47\n",
       "Smokes                                 10\n",
       "Smokes (years)                         10\n",
       "Smokes (packs/year)                    10\n",
       "Hormonal Contraceptives                13\n",
       "Hormonal Contraceptives (years)        13\n",
       "IUD                                    16\n",
       "IUD (years)                            16\n",
       "STDs                                    0\n",
       "STDs (number)                           0\n",
       "STDs:condylomatosis                     0\n",
       "STDs:cervical condylomatosis            0\n",
       "STDs:vaginal condylomatosis             0\n",
       "STDs:vulvo-perineal condylomatosis      0\n",
       "STDs:syphilis                           0\n",
       "STDs:pelvic inflammatory disease        0\n",
       "STDs:genital herpes                     0\n",
       "STDs:molluscum contagiosum              0\n",
       "STDs:AIDS                               0\n",
       "STDs:HIV                                0\n",
       "STDs:Hepatitis B                        0\n",
       "STDs:HPV                                0\n",
       "STDs: Number of diagnosis               0\n",
       "STDs: Time since first diagnosis      682\n",
       "STDs: Time since last diagnosis       682\n",
       "Dx:Cancer                               0\n",
       "Dx:CIN                                  0\n",
       "Dx:HPV                                  0\n",
       "Dx                                      0\n",
       "Hinselmann                              0\n",
       "Schiller                                0\n",
       "Citology                                0\n",
       "Biopsy                                  0\n",
       "dtype: int64"
      ]
     },
     "execution_count": 7,
     "metadata": {},
     "output_type": "execute_result"
    }
   ],
   "source": [
    "df_fullna = df_fullna[df_fullna['STDs'].notnull()]\n",
    "df_fullna.isnull().sum()"
   ]
  },
  {
   "cell_type": "code",
   "execution_count": 8,
   "metadata": {
    "collapsed": true
   },
   "outputs": [],
   "source": [
    "df_fullna.drop(['STDs: Time since first diagnosis','STDs: Time since last diagnosis'],inplace=True,axis=1)\n",
    "## Too many missing values"
   ]
  },
  {
   "cell_type": "code",
   "execution_count": 9,
   "metadata": {},
   "outputs": [
    {
     "data": {
      "text/plain": [
       "Age                                    0\n",
       "Number of sexual partners             14\n",
       "First sexual intercourse               6\n",
       "Num of pregnancies                    41\n",
       "Smokes                                 0\n",
       "Smokes (years)                         0\n",
       "Smokes (packs/year)                    0\n",
       "Hormonal Contraceptives                0\n",
       "Hormonal Contraceptives (years)        0\n",
       "IUD                                    0\n",
       "IUD (years)                            0\n",
       "STDs                                   0\n",
       "STDs (number)                          0\n",
       "STDs:condylomatosis                    0\n",
       "STDs:cervical condylomatosis           0\n",
       "STDs:vaginal condylomatosis            0\n",
       "STDs:vulvo-perineal condylomatosis     0\n",
       "STDs:syphilis                          0\n",
       "STDs:pelvic inflammatory disease       0\n",
       "STDs:genital herpes                    0\n",
       "STDs:molluscum contagiosum             0\n",
       "STDs:AIDS                              0\n",
       "STDs:HIV                               0\n",
       "STDs:Hepatitis B                       0\n",
       "STDs:HPV                               0\n",
       "STDs: Number of diagnosis              0\n",
       "Dx:Cancer                              0\n",
       "Dx:CIN                                 0\n",
       "Dx:HPV                                 0\n",
       "Dx                                     0\n",
       "Hinselmann                             0\n",
       "Schiller                               0\n",
       "Citology                               0\n",
       "Biopsy                                 0\n",
       "dtype: int64"
      ]
     },
     "execution_count": 9,
     "metadata": {},
     "output_type": "execute_result"
    }
   ],
   "source": [
    "df_fullna = df_fullna[df_fullna['IUD'].notnull()]\n",
    "df_fullna = df_fullna[df_fullna['Hormonal Contraceptives'].notnull()]\n",
    "df_fullna = df_fullna[df_fullna['Smokes'].notnull()]\n",
    "\n",
    "df_fullna.isnull().sum()"
   ]
  },
  {
   "cell_type": "code",
   "execution_count": 10,
   "metadata": {},
   "outputs": [
    {
     "name": "stdout",
     "output_type": "stream",
     "text": [
      "Age  27.258953168044076\n",
      "Number of sexual partners  2.514044943820225\n",
      "First sexual intercourse  17.094444444444445\n",
      "Num of pregnancies  2.318248175182482\n",
      "Smokes (years)  1.2432461460041317\n",
      "Smokes (packs/year)  0.4638162915428375\n",
      "Hormonal Contraceptives (years)  2.2349371915179073\n",
      "IUD (years)  0.5144214876033059\n",
      "STDs (number)  0.15977961432506887\n"
     ]
    }
   ],
   "source": [
    "numerical_df = ['Age', 'Number of sexual partners', 'First sexual intercourse','Num of pregnancies', 'Smokes (years)',\n",
    "                'Smokes (packs/year)','Hormonal Contraceptives (years)','IUD (years)','STDs (number)']\n",
    "categorical_df = ['Smokes','Hormonal Contraceptives','IUD','STDs','STDs:condylomatosis','STDs:cervical condylomatosis',\n",
    "                  'STDs:vaginal condylomatosis','STDs:vulvo-perineal condylomatosis', 'STDs:syphilis',\n",
    "                  'STDs:pelvic inflammatory disease', 'STDs:genital herpes','STDs:molluscum contagiosum', 'STDs:AIDS', \n",
    "                  'STDs:HIV','STDs:Hepatitis B', 'STDs:HPV', 'STDs: Number of diagnosis','Dx:Cancer', 'Dx:CIN', \n",
    "                  'Dx:HPV', 'Dx', 'Hinselmann', 'Schiller','Citology', 'Biopsy']\n",
    "for feature in numerical_df:\n",
    "    print(feature,'',df_fullna[feature].convert_objects(convert_numeric=True).mean())\n",
    "    feature_mean = round(df_fullna[feature].convert_objects(convert_numeric=True).mean(),1)\n",
    "    df_fullna[feature] = df_fullna[feature].fillna(feature_mean)"
   ]
  },
  {
   "cell_type": "code",
   "execution_count": 12,
   "metadata": {},
   "outputs": [
    {
     "name": "stdout",
     "output_type": "stream",
     "text": [
      "<class 'pandas.core.frame.DataFrame'>\n",
      "Int64Index: 726 entries, 0 to 857\n",
      "Data columns (total 34 columns):\n",
      "Age                                   726 non-null int64\n",
      "Number of sexual partners             726 non-null object\n",
      "First sexual intercourse              726 non-null object\n",
      "Num of pregnancies                    726 non-null object\n",
      "Smokes                                726 non-null object\n",
      "Smokes (years)                        726 non-null object\n",
      "Smokes (packs/year)                   726 non-null object\n",
      "Hormonal Contraceptives               726 non-null object\n",
      "Hormonal Contraceptives (years)       726 non-null object\n",
      "IUD                                   726 non-null object\n",
      "IUD (years)                           726 non-null object\n",
      "STDs                                  726 non-null object\n",
      "STDs (number)                         726 non-null object\n",
      "STDs:condylomatosis                   726 non-null object\n",
      "STDs:cervical condylomatosis          726 non-null object\n",
      "STDs:vaginal condylomatosis           726 non-null object\n",
      "STDs:vulvo-perineal condylomatosis    726 non-null object\n",
      "STDs:syphilis                         726 non-null object\n",
      "STDs:pelvic inflammatory disease      726 non-null object\n",
      "STDs:genital herpes                   726 non-null object\n",
      "STDs:molluscum contagiosum            726 non-null object\n",
      "STDs:AIDS                             726 non-null object\n",
      "STDs:HIV                              726 non-null object\n",
      "STDs:Hepatitis B                      726 non-null object\n",
      "STDs:HPV                              726 non-null object\n",
      "STDs: Number of diagnosis             726 non-null int64\n",
      "Dx:Cancer                             726 non-null int64\n",
      "Dx:CIN                                726 non-null int64\n",
      "Dx:HPV                                726 non-null int64\n",
      "Dx                                    726 non-null int64\n",
      "Hinselmann                            726 non-null int64\n",
      "Schiller                              726 non-null int64\n",
      "Citology                              726 non-null int64\n",
      "Biopsy                                726 non-null int64\n",
      "dtypes: int64(10), object(24)\n",
      "memory usage: 198.5+ KB\n"
     ]
    }
   ],
   "source": [
    "df_fullna.info()"
   ]
  },
  {
   "cell_type": "code",
   "execution_count": 14,
   "metadata": {},
   "outputs": [
    {
     "name": "stdout",
     "output_type": "stream",
     "text": [
      "Value counts of each target variable: 0    633\n",
      "1     36\n",
      "3     32\n",
      "2     20\n",
      "4      5\n",
      "Name: cervical_cancer, dtype: int64\n",
      "Final feature vector shape: (726, 30)\n",
      "Final target vector shape (726,)\n"
     ]
    }
   ],
   "source": [
    "category_df = ['Hinselmann', 'Schiller','Citology', 'Biopsy']\n",
    "\n",
    "cancer_df_features = df_fullna.drop(['Hinselmann', 'Schiller', 'Citology','Biopsy'],axis=1)\n",
    "cancer_df_label = pd.DataFrame(data=df_fullna['Hinselmann'])\n",
    "\n",
    "cancer_df_label['Schiller'] = df_fullna['Schiller']\n",
    "cancer_df_label['Citology'] = df_fullna['Citology']\n",
    "cancer_df_label['Biopsy'] = df_fullna['Biopsy']\n",
    "\n",
    "def cervical_cancer(cancer_label):\n",
    "    \n",
    "    hil, sch, cit, bio = cancer_label\n",
    "    \n",
    "    return hil+sch+cit+bio\n",
    "\n",
    "cancer_df_label['cervical_cancer'] = cancer_df_label[['Hinselmann', 'Schiller', 'Citology','Biopsy']].apply(cervical_cancer,axis=1)\n",
    "\n",
    "cancer_df_label.drop(['Hinselmann', 'Schiller', 'Citology','Biopsy'],axis=1,inplace=True)\n",
    "print('Value counts of each target variable:',cancer_df_label['cervical_cancer'].value_counts())\n",
    "cancer_df_label = cancer_df_label.astype(int)\n",
    "cancer_df_label = cancer_df_label.values.ravel()\n",
    "\n",
    "print('Final feature vector shape:',cancer_df_features.shape)\n",
    "print('Final target vector shape',cancer_df_label.shape)"
   ]
  },
  {
   "cell_type": "markdown",
   "metadata": {},
   "source": [
    "http://www.ritchieng.com/machine-learning-evaluate-classification-model/\n",
    "\n",
    "https://machinelearningmastery.com/metrics-evaluate-machine-learning-algorithms-python/\n",
    "https://machinelearningmastery.com/assessing-comparing-classifier-performance-roc-curves-2/\n",
    "http://scikit-learn.org/stable/modules/generated/sklearn.metrics.auc.html\n",
    "https://www.analyticsvidhya.com/blog/2016/02/7-important-model-evaluation-error-metrics/"
   ]
  }
 ],
 "metadata": {
  "kernelspec": {
   "display_name": "Python 3",
   "language": "python",
   "name": "python3"
  },
  "language_info": {
   "codemirror_mode": {
    "name": "ipython",
    "version": 3
   },
   "file_extension": ".py",
   "mimetype": "text/x-python",
   "name": "python",
   "nbconvert_exporter": "python",
   "pygments_lexer": "ipython3",
   "version": "3.6.1"
  }
 },
 "nbformat": 4,
 "nbformat_minor": 2
}
